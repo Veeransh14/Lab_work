{
  "nbformat": 4,
  "nbformat_minor": 0,
  "metadata": {
    "colab": {
      "provenance": []
    },
    "kernelspec": {
      "name": "python3",
      "display_name": "Python 3"
    },
    "language_info": {
      "name": "python"
    }
  },
  "cells": [
    {
      "cell_type": "code",
      "execution_count": 1,
      "metadata": {
        "id": "nMuc8R29R8XP"
      },
      "outputs": [],
      "source": [
        "import sqlite3\n",
        "conn = sqlite3.connect('test.db')"
      ]
    },
    {
      "cell_type": "code",
      "source": [
        "conn.execute('''\n",
        "    CREATE TABLE Departments(\n",
        "      Code INTEGER PRIMARY KEY NOT NULL,\n",
        "      Name NVARCHAR NOT NULL,\n",
        "      Budget REAL NOT NULL\n",
        "    ); '''\n",
        ")\n",
        "conn.commit()\n",
        "print('Departments table created');"
      ],
      "metadata": {
        "colab": {
          "base_uri": "https://localhost:8080/"
        },
        "id": "W2fz9UULR9Tx",
        "outputId": "0e0875cc-6bc2-4bd2-9040-f561fe97277c"
      },
      "execution_count": 2,
      "outputs": [
        {
          "output_type": "stream",
          "name": "stdout",
          "text": [
            "Departments table created\n"
          ]
        }
      ]
    },
    {
      "cell_type": "code",
      "source": [
        "conn.execute('''\n",
        "    CREATE TABLE Employees(\n",
        "      SSN INTEGER PRIMARY KEY NOT NULL,\n",
        "      Name TEXT NOT NULL,\n",
        "      LastName VARCHAR NOT Null,\n",
        "      Department INTEGER NOT NULL,\n",
        "      Salary INTEGER NOT NULL,\n",
        "      CONSTRAINT fk_Departments_Code FOREIGN KEY(Department)\n",
        "   REFERENCES Department(Code)\n",
        "    ); '''\n",
        ")\n",
        "conn.commit()\n",
        "print('Employees table created');\n"
      ],
      "metadata": {
        "colab": {
          "base_uri": "https://localhost:8080/"
        },
        "id": "kbplvCl7SI0r",
        "outputId": "f780afd2-3589-4047-9991-09cf02a5682e"
      },
      "execution_count": 3,
      "outputs": [
        {
          "output_type": "stream",
          "name": "stdout",
          "text": [
            "Employees table created\n"
          ]
        }
      ]
    },
    {
      "cell_type": "code",
      "source": [
        "conn.execute(\"INSERT INTO Departments(Code, Name, Budget) VALUES(14, 'IT', 65000);\")\n",
        "conn.execute(\"INSERT INTO Departments(Code, Name, Budget) VALUES(37, 'Accounting', 15000);\")\n",
        "conn.execute(\"INSERT INTO Departments(Code, Name, Budget) VALUES(59, 'Human Resources',240000);\")\n",
        "conn.execute(\"INSERT INTO Departments(Code, Name, Budget) VALUES(77, 'Research', 55000);\")"
      ],
      "metadata": {
        "colab": {
          "base_uri": "https://localhost:8080/"
        },
        "id": "JUmBlTx6SKQ7",
        "outputId": "a24f83ea-19c3-4cb2-ef79-507a5325b17c"
      },
      "execution_count": 4,
      "outputs": [
        {
          "output_type": "execute_result",
          "data": {
            "text/plain": [
              "<sqlite3.Cursor at 0x79ed53f35a40>"
            ]
          },
          "metadata": {},
          "execution_count": 4
        }
      ]
    },
    {
      "cell_type": "code",
      "source": [
        "conn.execute(\"INSERT INTO Employees(SSN, Name, LastName, Department, Salary) VALUES('123234871', 'Michael', 'Scott', 31, 700);\")\n",
        "conn.execute(\"INSERT INTO Employees(SSN, Name, LastName, Department, Salary) VALUES('123231872', 'Dwight', 'Schrute', 14, 100);\")\n",
        "conn.execute(\"INSERT INTO Employees(SSN, Name, LastName, Department, Salary) VALUES('143234873', 'Jim', 'Halpert', 56, 400);\")\n",
        "conn.execute(\"INSERT INTO Employees(SSN, Name, LastName, Department, Salary) VALUES('123244874', 'Pam', 'Beasly', 1, 10);\")\n",
        "conn.execute(\"INSERT INTO Employees(SSN, Name, LastName, Department, Salary) VALUES('123284875', 'Andy', 'Bernard', 37, 100);\")\n",
        "conn.execute(\"INSERT INTO Employees(SSN, Name, LastName, Department, Salary) VALUES('183234876', 'Angela', 'Martin', 14, 340);\")\n",
        "conn.execute(\"INSERT INTO Employees(SSN, Name, LastName, Department, Salary) VALUES('123234877', 'Erin', 'Hannon', 83, 570);\")\n",
        "conn.execute(\"INSERT INTO Employees(SSN, Name, LastName, Department, Salary) VALUES('123264878', 'Kelly', 'Kapoor', 49, 650);\")\n",
        "conn.execute(\"INSERT INTO Employees(SSN, Name, LastName, Department, Salary) VALUES('153234878', 'Ryan', 'Howard', 4, 20);\")\n",
        "conn.execute(\"INSERT INTO Employees(SSN, Name, LastName, Department, Salary) VALUES('123234879', 'Oscar', 'Martinez', 18, 100);\")\n",
        "conn.execute(\"INSERT INTO Employees(SSN, Name, LastName, Department, Salary) VALUES('123234880', 'Phyllis', 'Vance', 64, 980);\")\n",
        "conn.execute(\"INSERT INTO Employees(SSN, Name, LastName, Department, Salary) VALUES('173254881', 'Creed', 'Bratton', 7, 100);\")\n",
        "conn.execute(\"INSERT INTO Employees(SSN, Name, LastName, Department, Salary) VALUES('123234882', 'Stanley', 'Hidson', 14, 740);\")\n",
        "conn.execute(\"INSERT INTO Employees(SSN, Name, LastName, Department, Salary) VALUES('123224883', 'Toby', 'Flenderson', 12, 450);\")\n",
        "conn.execute(\"INSERT INTO Employees(SSN, Name, LastName, Department, Salary) VALUES('133234884', 'Meredith', 'Palmer', 14, 500);\")\n",
        "conn.commit()"
      ],
      "metadata": {
        "id": "xC6QwBC_SLk-"
      },
      "execution_count": 5,
      "outputs": []
    },
    {
      "cell_type": "code",
      "source": [
        "conn = sqlite3.connect('test.db')\n",
        "cursor = conn.execute(''' SELECT * FROM Departments''')\n",
        "for row in cursor:\n",
        "  print(row)"
      ],
      "metadata": {
        "colab": {
          "base_uri": "https://localhost:8080/"
        },
        "id": "lYY-Gtq-SM3L",
        "outputId": "56b0b339-98b1-4513-e655-fcd612b0ade4"
      },
      "execution_count": 6,
      "outputs": [
        {
          "output_type": "stream",
          "name": "stdout",
          "text": [
            "(14, 'IT', 65000.0)\n",
            "(37, 'Accounting', 15000.0)\n",
            "(59, 'Human Resources', 240000.0)\n",
            "(77, 'Research', 55000.0)\n"
          ]
        }
      ]
    },
    {
      "cell_type": "code",
      "source": [
        "cursor = conn.execute(''' SELECT * FROM Employees''')\n",
        "for row in cursor:\n",
        "  print(row)"
      ],
      "metadata": {
        "colab": {
          "base_uri": "https://localhost:8080/"
        },
        "id": "dFYYgy_0SOML",
        "outputId": "681e6848-d611-4287-97a2-01f84ec5b89a"
      },
      "execution_count": 7,
      "outputs": [
        {
          "output_type": "stream",
          "name": "stdout",
          "text": [
            "(123224883, 'Toby', 'Flenderson', 12, 450)\n",
            "(123231872, 'Dwight', 'Schrute', 14, 100)\n",
            "(123234871, 'Michael', 'Scott', 31, 700)\n",
            "(123234877, 'Erin', 'Hannon', 83, 570)\n",
            "(123234879, 'Oscar', 'Martinez', 18, 100)\n",
            "(123234880, 'Phyllis', 'Vance', 64, 980)\n",
            "(123234882, 'Stanley', 'Hidson', 14, 740)\n",
            "(123244874, 'Pam', 'Beasly', 1, 10)\n",
            "(123264878, 'Kelly', 'Kapoor', 49, 650)\n",
            "(123284875, 'Andy', 'Bernard', 37, 100)\n",
            "(133234884, 'Meredith', 'Palmer', 14, 500)\n",
            "(143234873, 'Jim', 'Halpert', 56, 400)\n",
            "(153234878, 'Ryan', 'Howard', 4, 20)\n",
            "(173254881, 'Creed', 'Bratton', 7, 100)\n",
            "(183234876, 'Angela', 'Martin', 14, 340)\n"
          ]
        }
      ]
    },
    {
      "cell_type": "code",
      "source": [
        "#Select all the data of employees that work in department 37 or department 14\n",
        "cursor = conn.execute('''\n",
        "   SELECT * FROM Employees\n",
        "   WHERE Department IN(37,14)\n",
        "''')\n",
        "for row in cursor:\n",
        "  print(row)"
      ],
      "metadata": {
        "colab": {
          "base_uri": "https://localhost:8080/"
        },
        "id": "_0TtrBn_SP-M",
        "outputId": "4716e395-eea5-4234-c2eb-59077f3c9493"
      },
      "execution_count": 8,
      "outputs": [
        {
          "output_type": "stream",
          "name": "stdout",
          "text": [
            "(123231872, 'Dwight', 'Schrute', 14, 100)\n",
            "(123234882, 'Stanley', 'Hidson', 14, 740)\n",
            "(123284875, 'Andy', 'Bernard', 37, 100)\n",
            "(133234884, 'Meredith', 'Palmer', 14, 500)\n",
            "(183234876, 'Angela', 'Martin', 14, 340)\n"
          ]
        }
      ]
    },
    {
      "cell_type": "code",
      "source": [
        "#Select the names of the department with more than two employees\n",
        "#Select all the data of employees that work in department 37 or department 14\n",
        "cursor = conn.execute('''\n",
        "   SELECT Name FROM Departments\n",
        "   WHERE Code IN\n",
        "   (\n",
        "    Select Department\n",
        "    From Employees\n",
        "    Group BY Department\n",
        "    HAVING COUNT(*)>2\n",
        "   );\n",
        "    ''')\n",
        "for row in cursor:\n",
        "  print(row)"
      ],
      "metadata": {
        "colab": {
          "base_uri": "https://localhost:8080/"
        },
        "id": "-bKk1b-NSTMK",
        "outputId": "39f12ec6-6e9e-4415-9f27-ce97d6af24d7"
      },
      "execution_count": 10,
      "outputs": [
        {
          "output_type": "stream",
          "name": "stdout",
          "text": [
            "('IT',)\n"
          ]
        }
      ]
    },
    {
      "cell_type": "code",
      "source": [],
      "metadata": {
        "id": "5nF0sX-5SXLv"
      },
      "execution_count": 10,
      "outputs": []
    }
  ]
}